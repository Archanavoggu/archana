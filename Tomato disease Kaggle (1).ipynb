{
 "cells": [
  {
   "cell_type": "code",
   "execution_count": null,
   "id": "2ab3a089-e70b-4380-aaf9-ff2b5766de80",
   "metadata": {},
   "outputs": [
    {
     "name": "stdout",
     "output_type": "stream",
     "text": [
      "Found 6992 images belonging to 230 classes.\n",
      "Found 2037 images belonging to 183 classes.\n"
     ]
    }
   ],
   "source": [
    "train_dir = r\"C:\\Users\\archana\\Downloads\\Tomato disease\\Tomato disease\\train\"\n",
    "valid_dir = r\"C:\\Users\\archana\\Downloads\\Tomato disease\\Tomato disease\\valid\"\n",
    "from tensorflow.keras.preprocessing.image import ImageDataGenerator\n",
    "\n",
    "IMG_SIZE = (224, 224)\n",
    "BATCH_SIZE = 32\n",
    "\n",
    "# Data augmentation for training\n",
    "train_datagen = ImageDataGenerator(rescale=1.0/255)\n",
    "\n",
    "# Validation & Test data\n",
    "valid_datagen = ImageDataGenerator(rescale=1.0/255)\n",
    "\n",
    "# Load images\n",
    "train_generator = train_datagen.flow_from_directory(\n",
    "    train_dir,\n",
    "    target_size=IMG_SIZE, \n",
    "    batch_size=BATCH_SIZE,\n",
    "    class_mode=\"categorical\"\n",
    ")\n",
    "\n",
    "valid_generator = valid_datagen.flow_from_directory(\n",
    "    valid_dir,\n",
    "    target_size=IMG_SIZE,\n",
    "    batch_size=BATCH_SIZE,\n",
    "    class_mode=\"categorical\"\n",
    ")"
   ]
  },
  {
   "cell_type": "code",
   "execution_count": null,
   "id": "60d64995-e501-44a2-8f2e-71274ca431a9",
   "metadata": {},
   "outputs": [],
   "source": []
  },
  {
   "cell_type": "code",
   "execution_count": 9,
   "id": "f817c9fc-f961-40d3-bb3a-5ef11aae9b87",
   "metadata": {},
   "outputs": [
    {
     "data": {
      "text/html": [
       "<pre style=\"white-space:pre;overflow-x:auto;line-height:normal;font-family:Menlo,'DejaVu Sans Mono',consolas,'Courier New',monospace\"><span style=\"font-weight: bold\">Model: \"sequential_1\"</span>\n",
       "</pre>\n"
      ],
      "text/plain": [
       "\u001b[1mModel: \"sequential_1\"\u001b[0m\n"
      ]
     },
     "metadata": {},
     "output_type": "display_data"
    },
    {
     "data": {
      "text/html": [
       "<pre style=\"white-space:pre;overflow-x:auto;line-height:normal;font-family:Menlo,'DejaVu Sans Mono',consolas,'Courier New',monospace\">┏━━━━━━━━━━━━━━━━━━━━━━━━━━━━━━━━━┳━━━━━━━━━━━━━━━━━━━━━━━━┳━━━━━━━━━━━━━━━┓\n",
       "┃<span style=\"font-weight: bold\"> Layer (type)                    </span>┃<span style=\"font-weight: bold\"> Output Shape           </span>┃<span style=\"font-weight: bold\">       Param # </span>┃\n",
       "┡━━━━━━━━━━━━━━━━━━━━━━━━━━━━━━━━━╇━━━━━━━━━━━━━━━━━━━━━━━━╇━━━━━━━━━━━━━━━┩\n",
       "│ conv2d_3 (<span style=\"color: #0087ff; text-decoration-color: #0087ff\">Conv2D</span>)               │ (<span style=\"color: #00d7ff; text-decoration-color: #00d7ff\">None</span>, <span style=\"color: #00af00; text-decoration-color: #00af00\">222</span>, <span style=\"color: #00af00; text-decoration-color: #00af00\">222</span>, <span style=\"color: #00af00; text-decoration-color: #00af00\">32</span>)   │           <span style=\"color: #00af00; text-decoration-color: #00af00\">896</span> │\n",
       "├─────────────────────────────────┼────────────────────────┼───────────────┤\n",
       "│ batch_normalization_4           │ (<span style=\"color: #00d7ff; text-decoration-color: #00d7ff\">None</span>, <span style=\"color: #00af00; text-decoration-color: #00af00\">222</span>, <span style=\"color: #00af00; text-decoration-color: #00af00\">222</span>, <span style=\"color: #00af00; text-decoration-color: #00af00\">32</span>)   │           <span style=\"color: #00af00; text-decoration-color: #00af00\">128</span> │\n",
       "│ (<span style=\"color: #0087ff; text-decoration-color: #0087ff\">BatchNormalization</span>)            │                        │               │\n",
       "├─────────────────────────────────┼────────────────────────┼───────────────┤\n",
       "│ max_pooling2d_3 (<span style=\"color: #0087ff; text-decoration-color: #0087ff\">MaxPooling2D</span>)  │ (<span style=\"color: #00d7ff; text-decoration-color: #00d7ff\">None</span>, <span style=\"color: #00af00; text-decoration-color: #00af00\">111</span>, <span style=\"color: #00af00; text-decoration-color: #00af00\">111</span>, <span style=\"color: #00af00; text-decoration-color: #00af00\">32</span>)   │             <span style=\"color: #00af00; text-decoration-color: #00af00\">0</span> │\n",
       "├─────────────────────────────────┼────────────────────────┼───────────────┤\n",
       "│ dropout_4 (<span style=\"color: #0087ff; text-decoration-color: #0087ff\">Dropout</span>)             │ (<span style=\"color: #00d7ff; text-decoration-color: #00d7ff\">None</span>, <span style=\"color: #00af00; text-decoration-color: #00af00\">111</span>, <span style=\"color: #00af00; text-decoration-color: #00af00\">111</span>, <span style=\"color: #00af00; text-decoration-color: #00af00\">32</span>)   │             <span style=\"color: #00af00; text-decoration-color: #00af00\">0</span> │\n",
       "├─────────────────────────────────┼────────────────────────┼───────────────┤\n",
       "│ conv2d_4 (<span style=\"color: #0087ff; text-decoration-color: #0087ff\">Conv2D</span>)               │ (<span style=\"color: #00d7ff; text-decoration-color: #00d7ff\">None</span>, <span style=\"color: #00af00; text-decoration-color: #00af00\">109</span>, <span style=\"color: #00af00; text-decoration-color: #00af00\">109</span>, <span style=\"color: #00af00; text-decoration-color: #00af00\">64</span>)   │        <span style=\"color: #00af00; text-decoration-color: #00af00\">18,496</span> │\n",
       "├─────────────────────────────────┼────────────────────────┼───────────────┤\n",
       "│ batch_normalization_5           │ (<span style=\"color: #00d7ff; text-decoration-color: #00d7ff\">None</span>, <span style=\"color: #00af00; text-decoration-color: #00af00\">109</span>, <span style=\"color: #00af00; text-decoration-color: #00af00\">109</span>, <span style=\"color: #00af00; text-decoration-color: #00af00\">64</span>)   │           <span style=\"color: #00af00; text-decoration-color: #00af00\">256</span> │\n",
       "│ (<span style=\"color: #0087ff; text-decoration-color: #0087ff\">BatchNormalization</span>)            │                        │               │\n",
       "├─────────────────────────────────┼────────────────────────┼───────────────┤\n",
       "│ max_pooling2d_4 (<span style=\"color: #0087ff; text-decoration-color: #0087ff\">MaxPooling2D</span>)  │ (<span style=\"color: #00d7ff; text-decoration-color: #00d7ff\">None</span>, <span style=\"color: #00af00; text-decoration-color: #00af00\">54</span>, <span style=\"color: #00af00; text-decoration-color: #00af00\">54</span>, <span style=\"color: #00af00; text-decoration-color: #00af00\">64</span>)     │             <span style=\"color: #00af00; text-decoration-color: #00af00\">0</span> │\n",
       "├─────────────────────────────────┼────────────────────────┼───────────────┤\n",
       "│ dropout_5 (<span style=\"color: #0087ff; text-decoration-color: #0087ff\">Dropout</span>)             │ (<span style=\"color: #00d7ff; text-decoration-color: #00d7ff\">None</span>, <span style=\"color: #00af00; text-decoration-color: #00af00\">54</span>, <span style=\"color: #00af00; text-decoration-color: #00af00\">54</span>, <span style=\"color: #00af00; text-decoration-color: #00af00\">64</span>)     │             <span style=\"color: #00af00; text-decoration-color: #00af00\">0</span> │\n",
       "├─────────────────────────────────┼────────────────────────┼───────────────┤\n",
       "│ conv2d_5 (<span style=\"color: #0087ff; text-decoration-color: #0087ff\">Conv2D</span>)               │ (<span style=\"color: #00d7ff; text-decoration-color: #00d7ff\">None</span>, <span style=\"color: #00af00; text-decoration-color: #00af00\">52</span>, <span style=\"color: #00af00; text-decoration-color: #00af00\">52</span>, <span style=\"color: #00af00; text-decoration-color: #00af00\">128</span>)    │        <span style=\"color: #00af00; text-decoration-color: #00af00\">73,856</span> │\n",
       "├─────────────────────────────────┼────────────────────────┼───────────────┤\n",
       "│ batch_normalization_6           │ (<span style=\"color: #00d7ff; text-decoration-color: #00d7ff\">None</span>, <span style=\"color: #00af00; text-decoration-color: #00af00\">52</span>, <span style=\"color: #00af00; text-decoration-color: #00af00\">52</span>, <span style=\"color: #00af00; text-decoration-color: #00af00\">128</span>)    │           <span style=\"color: #00af00; text-decoration-color: #00af00\">512</span> │\n",
       "│ (<span style=\"color: #0087ff; text-decoration-color: #0087ff\">BatchNormalization</span>)            │                        │               │\n",
       "├─────────────────────────────────┼────────────────────────┼───────────────┤\n",
       "│ max_pooling2d_5 (<span style=\"color: #0087ff; text-decoration-color: #0087ff\">MaxPooling2D</span>)  │ (<span style=\"color: #00d7ff; text-decoration-color: #00d7ff\">None</span>, <span style=\"color: #00af00; text-decoration-color: #00af00\">26</span>, <span style=\"color: #00af00; text-decoration-color: #00af00\">26</span>, <span style=\"color: #00af00; text-decoration-color: #00af00\">128</span>)    │             <span style=\"color: #00af00; text-decoration-color: #00af00\">0</span> │\n",
       "├─────────────────────────────────┼────────────────────────┼───────────────┤\n",
       "│ dropout_6 (<span style=\"color: #0087ff; text-decoration-color: #0087ff\">Dropout</span>)             │ (<span style=\"color: #00d7ff; text-decoration-color: #00d7ff\">None</span>, <span style=\"color: #00af00; text-decoration-color: #00af00\">26</span>, <span style=\"color: #00af00; text-decoration-color: #00af00\">26</span>, <span style=\"color: #00af00; text-decoration-color: #00af00\">128</span>)    │             <span style=\"color: #00af00; text-decoration-color: #00af00\">0</span> │\n",
       "├─────────────────────────────────┼────────────────────────┼───────────────┤\n",
       "│ flatten_1 (<span style=\"color: #0087ff; text-decoration-color: #0087ff\">Flatten</span>)             │ (<span style=\"color: #00d7ff; text-decoration-color: #00d7ff\">None</span>, <span style=\"color: #00af00; text-decoration-color: #00af00\">86528</span>)          │             <span style=\"color: #00af00; text-decoration-color: #00af00\">0</span> │\n",
       "├─────────────────────────────────┼────────────────────────┼───────────────┤\n",
       "│ dense_2 (<span style=\"color: #0087ff; text-decoration-color: #0087ff\">Dense</span>)                 │ (<span style=\"color: #00d7ff; text-decoration-color: #00d7ff\">None</span>, <span style=\"color: #00af00; text-decoration-color: #00af00\">128</span>)            │    <span style=\"color: #00af00; text-decoration-color: #00af00\">11,075,712</span> │\n",
       "├─────────────────────────────────┼────────────────────────┼───────────────┤\n",
       "│ batch_normalization_7           │ (<span style=\"color: #00d7ff; text-decoration-color: #00d7ff\">None</span>, <span style=\"color: #00af00; text-decoration-color: #00af00\">128</span>)            │           <span style=\"color: #00af00; text-decoration-color: #00af00\">512</span> │\n",
       "│ (<span style=\"color: #0087ff; text-decoration-color: #0087ff\">BatchNormalization</span>)            │                        │               │\n",
       "├─────────────────────────────────┼────────────────────────┼───────────────┤\n",
       "│ dropout_7 (<span style=\"color: #0087ff; text-decoration-color: #0087ff\">Dropout</span>)             │ (<span style=\"color: #00d7ff; text-decoration-color: #00d7ff\">None</span>, <span style=\"color: #00af00; text-decoration-color: #00af00\">128</span>)            │             <span style=\"color: #00af00; text-decoration-color: #00af00\">0</span> │\n",
       "├─────────────────────────────────┼────────────────────────┼───────────────┤\n",
       "│ dense_3 (<span style=\"color: #0087ff; text-decoration-color: #0087ff\">Dense</span>)                 │ (<span style=\"color: #00d7ff; text-decoration-color: #00d7ff\">None</span>, <span style=\"color: #00af00; text-decoration-color: #00af00\">230</span>)            │        <span style=\"color: #00af00; text-decoration-color: #00af00\">29,670</span> │\n",
       "└─────────────────────────────────┴────────────────────────┴───────────────┘\n",
       "</pre>\n"
      ],
      "text/plain": [
       "┏━━━━━━━━━━━━━━━━━━━━━━━━━━━━━━━━━┳━━━━━━━━━━━━━━━━━━━━━━━━┳━━━━━━━━━━━━━━━┓\n",
       "┃\u001b[1m \u001b[0m\u001b[1mLayer (type)                   \u001b[0m\u001b[1m \u001b[0m┃\u001b[1m \u001b[0m\u001b[1mOutput Shape          \u001b[0m\u001b[1m \u001b[0m┃\u001b[1m \u001b[0m\u001b[1m      Param #\u001b[0m\u001b[1m \u001b[0m┃\n",
       "┡━━━━━━━━━━━━━━━━━━━━━━━━━━━━━━━━━╇━━━━━━━━━━━━━━━━━━━━━━━━╇━━━━━━━━━━━━━━━┩\n",
       "│ conv2d_3 (\u001b[38;5;33mConv2D\u001b[0m)               │ (\u001b[38;5;45mNone\u001b[0m, \u001b[38;5;34m222\u001b[0m, \u001b[38;5;34m222\u001b[0m, \u001b[38;5;34m32\u001b[0m)   │           \u001b[38;5;34m896\u001b[0m │\n",
       "├─────────────────────────────────┼────────────────────────┼───────────────┤\n",
       "│ batch_normalization_4           │ (\u001b[38;5;45mNone\u001b[0m, \u001b[38;5;34m222\u001b[0m, \u001b[38;5;34m222\u001b[0m, \u001b[38;5;34m32\u001b[0m)   │           \u001b[38;5;34m128\u001b[0m │\n",
       "│ (\u001b[38;5;33mBatchNormalization\u001b[0m)            │                        │               │\n",
       "├─────────────────────────────────┼────────────────────────┼───────────────┤\n",
       "│ max_pooling2d_3 (\u001b[38;5;33mMaxPooling2D\u001b[0m)  │ (\u001b[38;5;45mNone\u001b[0m, \u001b[38;5;34m111\u001b[0m, \u001b[38;5;34m111\u001b[0m, \u001b[38;5;34m32\u001b[0m)   │             \u001b[38;5;34m0\u001b[0m │\n",
       "├─────────────────────────────────┼────────────────────────┼───────────────┤\n",
       "│ dropout_4 (\u001b[38;5;33mDropout\u001b[0m)             │ (\u001b[38;5;45mNone\u001b[0m, \u001b[38;5;34m111\u001b[0m, \u001b[38;5;34m111\u001b[0m, \u001b[38;5;34m32\u001b[0m)   │             \u001b[38;5;34m0\u001b[0m │\n",
       "├─────────────────────────────────┼────────────────────────┼───────────────┤\n",
       "│ conv2d_4 (\u001b[38;5;33mConv2D\u001b[0m)               │ (\u001b[38;5;45mNone\u001b[0m, \u001b[38;5;34m109\u001b[0m, \u001b[38;5;34m109\u001b[0m, \u001b[38;5;34m64\u001b[0m)   │        \u001b[38;5;34m18,496\u001b[0m │\n",
       "├─────────────────────────────────┼────────────────────────┼───────────────┤\n",
       "│ batch_normalization_5           │ (\u001b[38;5;45mNone\u001b[0m, \u001b[38;5;34m109\u001b[0m, \u001b[38;5;34m109\u001b[0m, \u001b[38;5;34m64\u001b[0m)   │           \u001b[38;5;34m256\u001b[0m │\n",
       "│ (\u001b[38;5;33mBatchNormalization\u001b[0m)            │                        │               │\n",
       "├─────────────────────────────────┼────────────────────────┼───────────────┤\n",
       "│ max_pooling2d_4 (\u001b[38;5;33mMaxPooling2D\u001b[0m)  │ (\u001b[38;5;45mNone\u001b[0m, \u001b[38;5;34m54\u001b[0m, \u001b[38;5;34m54\u001b[0m, \u001b[38;5;34m64\u001b[0m)     │             \u001b[38;5;34m0\u001b[0m │\n",
       "├─────────────────────────────────┼────────────────────────┼───────────────┤\n",
       "│ dropout_5 (\u001b[38;5;33mDropout\u001b[0m)             │ (\u001b[38;5;45mNone\u001b[0m, \u001b[38;5;34m54\u001b[0m, \u001b[38;5;34m54\u001b[0m, \u001b[38;5;34m64\u001b[0m)     │             \u001b[38;5;34m0\u001b[0m │\n",
       "├─────────────────────────────────┼────────────────────────┼───────────────┤\n",
       "│ conv2d_5 (\u001b[38;5;33mConv2D\u001b[0m)               │ (\u001b[38;5;45mNone\u001b[0m, \u001b[38;5;34m52\u001b[0m, \u001b[38;5;34m52\u001b[0m, \u001b[38;5;34m128\u001b[0m)    │        \u001b[38;5;34m73,856\u001b[0m │\n",
       "├─────────────────────────────────┼────────────────────────┼───────────────┤\n",
       "│ batch_normalization_6           │ (\u001b[38;5;45mNone\u001b[0m, \u001b[38;5;34m52\u001b[0m, \u001b[38;5;34m52\u001b[0m, \u001b[38;5;34m128\u001b[0m)    │           \u001b[38;5;34m512\u001b[0m │\n",
       "│ (\u001b[38;5;33mBatchNormalization\u001b[0m)            │                        │               │\n",
       "├─────────────────────────────────┼────────────────────────┼───────────────┤\n",
       "│ max_pooling2d_5 (\u001b[38;5;33mMaxPooling2D\u001b[0m)  │ (\u001b[38;5;45mNone\u001b[0m, \u001b[38;5;34m26\u001b[0m, \u001b[38;5;34m26\u001b[0m, \u001b[38;5;34m128\u001b[0m)    │             \u001b[38;5;34m0\u001b[0m │\n",
       "├─────────────────────────────────┼────────────────────────┼───────────────┤\n",
       "│ dropout_6 (\u001b[38;5;33mDropout\u001b[0m)             │ (\u001b[38;5;45mNone\u001b[0m, \u001b[38;5;34m26\u001b[0m, \u001b[38;5;34m26\u001b[0m, \u001b[38;5;34m128\u001b[0m)    │             \u001b[38;5;34m0\u001b[0m │\n",
       "├─────────────────────────────────┼────────────────────────┼───────────────┤\n",
       "│ flatten_1 (\u001b[38;5;33mFlatten\u001b[0m)             │ (\u001b[38;5;45mNone\u001b[0m, \u001b[38;5;34m86528\u001b[0m)          │             \u001b[38;5;34m0\u001b[0m │\n",
       "├─────────────────────────────────┼────────────────────────┼───────────────┤\n",
       "│ dense_2 (\u001b[38;5;33mDense\u001b[0m)                 │ (\u001b[38;5;45mNone\u001b[0m, \u001b[38;5;34m128\u001b[0m)            │    \u001b[38;5;34m11,075,712\u001b[0m │\n",
       "├─────────────────────────────────┼────────────────────────┼───────────────┤\n",
       "│ batch_normalization_7           │ (\u001b[38;5;45mNone\u001b[0m, \u001b[38;5;34m128\u001b[0m)            │           \u001b[38;5;34m512\u001b[0m │\n",
       "│ (\u001b[38;5;33mBatchNormalization\u001b[0m)            │                        │               │\n",
       "├─────────────────────────────────┼────────────────────────┼───────────────┤\n",
       "│ dropout_7 (\u001b[38;5;33mDropout\u001b[0m)             │ (\u001b[38;5;45mNone\u001b[0m, \u001b[38;5;34m128\u001b[0m)            │             \u001b[38;5;34m0\u001b[0m │\n",
       "├─────────────────────────────────┼────────────────────────┼───────────────┤\n",
       "│ dense_3 (\u001b[38;5;33mDense\u001b[0m)                 │ (\u001b[38;5;45mNone\u001b[0m, \u001b[38;5;34m230\u001b[0m)            │        \u001b[38;5;34m29,670\u001b[0m │\n",
       "└─────────────────────────────────┴────────────────────────┴───────────────┘\n"
      ]
     },
     "metadata": {},
     "output_type": "display_data"
    },
    {
     "data": {
      "text/html": [
       "<pre style=\"white-space:pre;overflow-x:auto;line-height:normal;font-family:Menlo,'DejaVu Sans Mono',consolas,'Courier New',monospace\"><span style=\"font-weight: bold\"> Total params: </span><span style=\"color: #00af00; text-decoration-color: #00af00\">11,200,038</span> (42.72 MB)\n",
       "</pre>\n"
      ],
      "text/plain": [
       "\u001b[1m Total params: \u001b[0m\u001b[38;5;34m11,200,038\u001b[0m (42.72 MB)\n"
      ]
     },
     "metadata": {},
     "output_type": "display_data"
    },
    {
     "data": {
      "text/html": [
       "<pre style=\"white-space:pre;overflow-x:auto;line-height:normal;font-family:Menlo,'DejaVu Sans Mono',consolas,'Courier New',monospace\"><span style=\"font-weight: bold\"> Trainable params: </span><span style=\"color: #00af00; text-decoration-color: #00af00\">11,199,334</span> (42.72 MB)\n",
       "</pre>\n"
      ],
      "text/plain": [
       "\u001b[1m Trainable params: \u001b[0m\u001b[38;5;34m11,199,334\u001b[0m (42.72 MB)\n"
      ]
     },
     "metadata": {},
     "output_type": "display_data"
    },
    {
     "data": {
      "text/html": [
       "<pre style=\"white-space:pre;overflow-x:auto;line-height:normal;font-family:Menlo,'DejaVu Sans Mono',consolas,'Courier New',monospace\"><span style=\"font-weight: bold\"> Non-trainable params: </span><span style=\"color: #00af00; text-decoration-color: #00af00\">704</span> (2.75 KB)\n",
       "</pre>\n"
      ],
      "text/plain": [
       "\u001b[1m Non-trainable params: \u001b[0m\u001b[38;5;34m704\u001b[0m (2.75 KB)\n"
      ]
     },
     "metadata": {},
     "output_type": "display_data"
    }
   ],
   "source": [
    "import tensorflow as tf\n",
    "from tensorflow.keras.models import Sequential\n",
    "from tensorflow.keras.layers import Conv2D, MaxPooling2D, Flatten, Dense, Dropout, BatchNormalization\n",
    "from tensorflow.keras.regularizers import l2\n",
    "\n",
    "# Define CNN Model\n",
    "model = Sequential([\n",
    "    # Convolutional Layer 1\n",
    "    Conv2D(32, (3,3), activation='relu', input_shape=(224, 224, 3)),\n",
    "    BatchNormalization(),\n",
    "    MaxPooling2D(pool_size=(2,2)),\n",
    "    Dropout(0.2),  # Dropout added\n",
    "\n",
    "    # Convolutional Layer 2\n",
    "    Conv2D(64, (3,3), activation='relu'),\n",
    "    BatchNormalization(),\n",
    "    MaxPooling2D(pool_size=(2,2)),\n",
    "    Dropout(0.3),  # Dropout added\n",
    "\n",
    "    # Convolutional Layer 3\n",
    "    Conv2D(128, (3,3), activation='relu'),\n",
    "    BatchNormalization(),\n",
    "    MaxPooling2D(pool_size=(2,2)),\n",
    "    Dropout(0.4),  # Dropout added\n",
    "\n",
    "    # Flatten Layer\n",
    "    Flatten(),\n",
    "\n",
    "    # Fully Connected Layer 1\n",
    "    Dense(128, activation='relu'),\n",
    "    BatchNormalization(),\n",
    "    Dropout(0.5),\n",
    "\n",
    "    Dense(230, activation='softmax')\n",
    "])\n",
    "\n",
    "# Compile the Model with Lower Learning Rate\n",
    "model.compile(optimizer=tf.keras.optimizers.Adam(learning_rate=0.0001),\n",
    "              loss='categorical_crossentropy',\n",
    "              metrics=['accuracy'])\n",
    "\n",
    "# Model Summary\n",
    "model.summary()\n",
    "\n",
    "# Early Stopping Callback\n",
    "from tensorflow.keras.callbacks import EarlyStopping\n",
    "early_stop = EarlyStopping(monitor='val_loss', patience=3, restore_best_weights=True)"
   ]
  },
  {
   "cell_type": "code",
   "execution_count": 10,
   "id": "e81af04e-e205-47bd-939b-23046e5c8cec",
   "metadata": {},
   "outputs": [
    {
     "name": "stdout",
     "output_type": "stream",
     "text": [
      "Train batches: 219\n",
      "Validation batches: 64\n"
     ]
    }
   ],
   "source": [
    "print(\"Train batches:\", len(train_generator))\n",
    "print(\"Validation batches:\", len(valid_generator))"
   ]
  },
  {
   "cell_type": "code",
   "execution_count": 11,
   "id": "5175b894-62ed-4c9f-91c3-ffc527feae59",
   "metadata": {},
   "outputs": [
    {
     "name": "stdout",
     "output_type": "stream",
     "text": [
      "(224, 224, 3)\n"
     ]
    }
   ],
   "source": [
    "print(train_generator.image_shape)"
   ]
  },
  {
   "cell_type": "code",
   "execution_count": 12,
   "id": "e5595188-4f8f-42f1-9185-e93407e3c636",
   "metadata": {},
   "outputs": [
    {
     "name": "stdout",
     "output_type": "stream",
     "text": [
      "['Early Blight', 'Early Blight Healthy', 'Early Blight Healthy Late Blight', 'Early Blight Healthy Late Blight Leaf Miner', 'Early Blight Healthy Late Blight Leaf Miner Leaf Mold', 'Early Blight Healthy Late Blight Leaf Miner Yellow Leaf Curl Virus', 'Early Blight Healthy Late Blight Leaf Mold', 'Early Blight Healthy Late Blight Leaf Mold Mosaic Virus', 'Early Blight Healthy Late Blight Leaf Mold Yellow Leaf Curl Virus', 'Early Blight Healthy Late Blight Mosaic Virus', 'Early Blight Healthy Late Blight Mosaic Virus Spider Mites', 'Early Blight Healthy Late Blight Septoria', 'Early Blight Healthy Late Blight Spider Mites', 'Early Blight Healthy Late Blight Yellow Leaf Curl Virus', 'Early Blight Healthy Leaf Miner', 'Early Blight Healthy Leaf Miner Leaf Mold Septoria', 'Early Blight Healthy Leaf Miner Leaf Mold Yellow Leaf Curl Virus', 'Early Blight Healthy Leaf Miner Mosaic Virus Septoria', 'Early Blight Healthy Leaf Miner Septoria Spider Mites', 'Early Blight Healthy Leaf Mold Septoria', 'Early Blight Healthy Mosaic Virus Septoria', 'Early Blight Healthy Mosaic Virus Septoria Spider Mites', 'Early Blight Healthy Mosaic Virus Yellow Leaf Curl Virus', 'Early Blight Healthy Septoria Spider Mites', 'Early Blight Healthy Septoria Yellow Leaf Curl Virus', 'Early Blight Late Blight', 'Early Blight Late Blight Leaf Miner', 'Early Blight Late Blight Leaf Miner Leaf Mold', 'Early Blight Late Blight Leaf Miner Mosaic Virus', 'Early Blight Late Blight Leaf Miner Septoria', 'Early Blight Late Blight Leaf Miner Spider Mites', 'Early Blight Late Blight Leaf Miner Yellow Leaf Curl Virus', 'Early Blight Late Blight Leaf Mold', 'Early Blight Late Blight Leaf Mold Mosaic Virus', 'Early Blight Late Blight Leaf Mold Septoria', 'Early Blight Late Blight Leaf Mold Spider Mites', 'Early Blight Late Blight Leaf Mold Yellow Leaf Curl Virus', 'Early Blight Late Blight Mosaic Virus', 'Early Blight Late Blight Mosaic Virus Septoria', 'Early Blight Late Blight Mosaic Virus Spider Mites', 'Early Blight Late Blight Mosaic Virus Yellow Leaf Curl Virus', 'Early Blight Late Blight Septoria', 'Early Blight Late Blight Septoria Spider Mites', 'Early Blight Late Blight Septoria Yellow Leaf Curl Virus', 'Early Blight Late Blight Spider Mites', 'Early Blight Late Blight Spider Mites Yellow Leaf Curl Virus', 'Early Blight Late Blight Yellow Leaf Curl Virus', 'Early Blight Leaf Miner', 'Early Blight Leaf Miner Leaf Mold', 'Early Blight Leaf Miner Leaf Mold Mosaic Virus', 'Early Blight Leaf Miner Leaf Mold Septoria', 'Early Blight Leaf Miner Leaf Mold Spider Mites', 'Early Blight Leaf Miner Leaf Mold Yellow Leaf Curl Virus', 'Early Blight Leaf Miner Mosaic Virus', 'Early Blight Leaf Miner Mosaic Virus Septoria', 'Early Blight Leaf Miner Mosaic Virus Spider Mites', 'Early Blight Leaf Miner Mosaic Virus Yellow Leaf Curl Virus', 'Early Blight Leaf Miner Septoria', 'Early Blight Leaf Miner Septoria Spider Mites', 'Early Blight Leaf Miner Septoria Yellow Leaf Curl Virus', 'Early Blight Leaf Miner Spider Mites', 'Early Blight Leaf Miner Spider Mites Yellow Leaf Curl Virus', 'Early Blight Leaf Miner Yellow Leaf Curl Virus', 'Early Blight Leaf Mold', 'Early Blight Leaf Mold Mosaic Virus', 'Early Blight Leaf Mold Mosaic Virus Septoria', 'Early Blight Leaf Mold Mosaic Virus Spider Mites', 'Early Blight Leaf Mold Mosaic Virus Yellow Leaf Curl Virus', 'Early Blight Leaf Mold Septoria', 'Early Blight Leaf Mold Septoria Spider Mites', 'Early Blight Leaf Mold Septoria Yellow Leaf Curl Virus', 'Early Blight Leaf Mold Spider Mites', 'Early Blight Leaf Mold Spider Mites Yellow Leaf Curl Virus', 'Early Blight Leaf Mold Yellow Leaf Curl Virus', 'Early Blight Mosaic Virus', 'Early Blight Mosaic Virus Septoria', 'Early Blight Mosaic Virus Septoria Spider Mites', 'Early Blight Mosaic Virus Septoria Yellow Leaf Curl Virus', 'Early Blight Mosaic Virus Spider Mites', 'Early Blight Mosaic Virus Spider Mites Yellow Leaf Curl Virus', 'Early Blight Mosaic Virus Yellow Leaf Curl Virus', 'Early Blight Septoria', 'Early Blight Septoria Spider Mites', 'Early Blight Septoria Spider Mites Yellow Leaf Curl Virus', 'Early Blight Septoria Yellow Leaf Curl Virus', 'Early Blight Spider Mites', 'Early Blight Spider Mites Yellow Leaf Curl Virus', 'Early Blight Yellow Leaf Curl Virus', 'Healthy', 'Healthy Late Blight', 'Healthy Late Blight Leaf Miner', 'Healthy Late Blight Leaf Miner Leaf Mold', 'Healthy Late Blight Leaf Miner Leaf Mold Septoria', 'Healthy Late Blight Leaf Miner Leaf Mold Spider Mites', 'Healthy Late Blight Leaf Miner Leaf Mold Yellow Leaf Curl Virus', 'Healthy Late Blight Leaf Miner Mosaic Virus', 'Healthy Late Blight Leaf Miner Mosaic Virus Septoria', 'Healthy Late Blight Leaf Miner Septoria', 'Healthy Late Blight Leaf Miner Yellow Leaf Curl Virus', 'Healthy Late Blight Leaf Mold Mosaic Virus', 'Healthy Late Blight Leaf Mold Mosaic Virus Septoria', 'Healthy Late Blight Leaf Mold Septoria', 'Healthy Late Blight Leaf Mold Septoria Spider Mites', 'Healthy Late Blight Leaf Mold Septoria Yellow Leaf Curl Virus', 'Healthy Late Blight Leaf Mold Spider Mites', 'Healthy Late Blight Leaf Mold Yellow Leaf Curl Virus', 'Healthy Late Blight Mosaic Virus', 'Healthy Late Blight Mosaic Virus Septoria', 'Healthy Late Blight Mosaic Virus Septoria Spider Mites', 'Healthy Late Blight Mosaic Virus Spider Mites', 'Healthy Late Blight Septoria', 'Healthy Late Blight Septoria Spider Mites', 'Healthy Late Blight Septoria Spider Mites Yellow Leaf Curl Virus', 'Healthy Late Blight Septoria Yellow Leaf Curl Virus', 'Healthy Late Blight Spider Mites', 'Healthy Late Blight Spider Mites Yellow Leaf Curl Virus', 'Healthy Leaf Miner', 'Healthy Leaf Miner Leaf Mold Mosaic Virus', 'Healthy Leaf Miner Leaf Mold Spider Mites', 'Healthy Leaf Miner Mosaic Virus Septoria Yellow Leaf Curl Virus', 'Healthy Leaf Miner Mosaic Virus Spider Mites Yellow Leaf Curl Virus', 'Healthy Leaf Miner Septoria', 'Healthy Leaf Mold', 'Healthy Leaf Mold Mosaic Virus', 'Healthy Leaf Mold Mosaic Virus Yellow Leaf Curl Virus', 'Healthy Leaf Mold Septoria', 'Healthy Leaf Mold Septoria Yellow Leaf Curl Virus', 'Healthy Leaf Mold Spider Mites', 'Healthy Mosaic Virus', 'Healthy Mosaic Virus Septoria Spider Mites Yellow Leaf Curl Virus', 'Healthy Septoria', 'Healthy Yellow Leaf Curl Virus', 'Late Blight', 'Late Blight Leaf Miner', 'Late Blight Leaf Miner Leaf Mold', 'Late Blight Leaf Miner Leaf Mold Mosaic Virus', 'Late Blight Leaf Miner Leaf Mold Septoria', 'Late Blight Leaf Miner Leaf Mold Spider Mites', 'Late Blight Leaf Miner Leaf Mold Yellow Leaf Curl Virus', 'Late Blight Leaf Miner Mosaic Virus', 'Late Blight Leaf Miner Mosaic Virus Septoria', 'Late Blight Leaf Miner Mosaic Virus Spider Mites', 'Late Blight Leaf Miner Mosaic Virus Yellow Leaf Curl Virus', 'Late Blight Leaf Miner Septoria', 'Late Blight Leaf Miner Septoria Spider Mites', 'Late Blight Leaf Miner Septoria Yellow Leaf Curl Virus', 'Late Blight Leaf Miner Spider Mites', 'Late Blight Leaf Miner Spider Mites Yellow Leaf Curl Virus', 'Late Blight Leaf Miner Yellow Leaf Curl Virus', 'Late Blight Leaf Mold', 'Late Blight Leaf Mold Mosaic Virus', 'Late Blight Leaf Mold Mosaic Virus Septoria', 'Late Blight Leaf Mold Mosaic Virus Spider Mites', 'Late Blight Leaf Mold Mosaic Virus Yellow Leaf Curl Virus', 'Late Blight Leaf Mold Septoria', 'Late Blight Leaf Mold Septoria Spider Mites', 'Late Blight Leaf Mold Septoria Yellow Leaf Curl Virus', 'Late Blight Leaf Mold Spider Mites', 'Late Blight Leaf Mold Spider Mites Yellow Leaf Curl Virus', 'Late Blight Leaf Mold Yellow Leaf Curl Virus', 'Late Blight Mosaic Virus', 'Late Blight Mosaic Virus Septoria', 'Late Blight Mosaic Virus Septoria Spider Mites', 'Late Blight Mosaic Virus Septoria Yellow Leaf Curl Virus', 'Late Blight Mosaic Virus Spider Mites', 'Late Blight Mosaic Virus Spider Mites Yellow Leaf Curl Virus', 'Late Blight Mosaic Virus Yellow Leaf Curl Virus', 'Late Blight Septoria', 'Late Blight Septoria Spider Mites', 'Late Blight Septoria Spider Mites Yellow Leaf Curl Virus', 'Late Blight Septoria Yellow Leaf Curl Virus', 'Late Blight Spider Mites', 'Late Blight Spider Mites Yellow Leaf Curl Virus', 'Late Blight Yellow Leaf Curl Virus', 'Leaf Miner', 'Leaf Miner Leaf Mold', 'Leaf Miner Leaf Mold Mosaic Virus', 'Leaf Miner Leaf Mold Mosaic Virus Septoria', 'Leaf Miner Leaf Mold Mosaic Virus Spider Mites', 'Leaf Miner Leaf Mold Mosaic Virus Yellow Leaf Curl Virus', 'Leaf Miner Leaf Mold Septoria', 'Leaf Miner Leaf Mold Septoria Spider Mites', 'Leaf Miner Leaf Mold Septoria Yellow Leaf Curl Virus', 'Leaf Miner Leaf Mold Spider Mites', 'Leaf Miner Leaf Mold Spider Mites Yellow Leaf Curl Virus', 'Leaf Miner Leaf Mold Yellow Leaf Curl Virus', 'Leaf Miner Mosaic Virus', 'Leaf Miner Mosaic Virus Septoria', 'Leaf Miner Mosaic Virus Septoria Spider Mites', 'Leaf Miner Mosaic Virus Septoria Yellow Leaf Curl Virus', 'Leaf Miner Mosaic Virus Spider Mites', 'Leaf Miner Mosaic Virus Spider Mites Yellow Leaf Curl Virus', 'Leaf Miner Mosaic Virus Yellow Leaf Curl Virus', 'Leaf Miner Septoria', 'Leaf Miner Septoria Spider Mites', 'Leaf Miner Septoria Spider Mites Yellow Leaf Curl Virus', 'Leaf Miner Septoria Yellow Leaf Curl Virus', 'Leaf Miner Spider Mites', 'Leaf Miner Spider Mites Yellow Leaf Curl Virus', 'Leaf Miner Yellow Leaf Curl Virus', 'Leaf Mold', 'Leaf Mold Mosaic Virus', 'Leaf Mold Mosaic Virus Septoria', 'Leaf Mold Mosaic Virus Septoria Spider Mites', 'Leaf Mold Mosaic Virus Septoria Yellow Leaf Curl Virus', 'Leaf Mold Mosaic Virus Spider Mites', 'Leaf Mold Mosaic Virus Spider Mites Yellow Leaf Curl Virus', 'Leaf Mold Mosaic Virus Yellow Leaf Curl Virus', 'Leaf Mold Septoria', 'Leaf Mold Septoria Spider Mites', 'Leaf Mold Septoria Spider Mites Yellow Leaf Curl Virus', 'Leaf Mold Septoria Yellow Leaf Curl Virus', 'Leaf Mold Spider Mites', 'Leaf Mold Spider Mites Yellow Leaf Curl Virus', 'Leaf Mold Yellow Leaf Curl Virus', 'Mosaic Virus', 'Mosaic Virus Septoria', 'Mosaic Virus Septoria Spider Mites', 'Mosaic Virus Septoria Spider Mites Yellow Leaf Curl Virus', 'Mosaic Virus Septoria Yellow Leaf Curl Virus', 'Mosaic Virus Spider Mites', 'Mosaic Virus Spider Mites Yellow Leaf Curl Virus', 'Mosaic Virus Yellow Leaf Curl Virus', 'Septoria', 'Septoria Spider Mites', 'Septoria Spider Mites Yellow Leaf Curl Virus', 'Septoria Yellow Leaf Curl Virus', 'Spider Mites', 'Spider Mites Yellow Leaf Curl Virus', 'Yellow Leaf Curl Virus']\n"
     ]
    }
   ],
   "source": [
    "import os\n",
    "print(os.listdir(train_dir))"
   ]
  },
  {
   "cell_type": "code",
   "execution_count": 14,
   "id": "a29bc033-e6b6-4f5a-9d9b-6fff76c3127b",
   "metadata": {},
   "outputs": [
    {
     "name": "stdout",
     "output_type": "stream",
     "text": [
      "Epoch 1/10\n",
      "\u001b[1m219/219\u001b[0m \u001b[32m━━━━━━━━━━━━━━━━━━━━\u001b[0m\u001b[37m\u001b[0m \u001b[1m582s\u001b[0m 3s/step - accuracy: 0.2730 - loss: 3.6803\n",
      "Epoch 2/10\n",
      "\u001b[1m219/219\u001b[0m \u001b[32m━━━━━━━━━━━━━━━━━━━━\u001b[0m\u001b[37m\u001b[0m \u001b[1m596s\u001b[0m 3s/step - accuracy: 0.3321 - loss: 3.2376\n",
      "Epoch 3/10\n",
      "\u001b[1m219/219\u001b[0m \u001b[32m━━━━━━━━━━━━━━━━━━━━\u001b[0m\u001b[37m\u001b[0m \u001b[1m328s\u001b[0m 1s/step - accuracy: 0.4117 - loss: 2.8597\n",
      "Epoch 4/10\n",
      "\u001b[1m219/219\u001b[0m \u001b[32m━━━━━━━━━━━━━━━━━━━━\u001b[0m\u001b[37m\u001b[0m \u001b[1m324s\u001b[0m 1s/step - accuracy: 0.4846 - loss: 2.5353\n",
      "Epoch 5/10\n",
      "\u001b[1m219/219\u001b[0m \u001b[32m━━━━━━━━━━━━━━━━━━━━\u001b[0m\u001b[37m\u001b[0m \u001b[1m307s\u001b[0m 1s/step - accuracy: 0.5917 - loss: 2.1187\n",
      "Epoch 6/10\n",
      "\u001b[1m219/219\u001b[0m \u001b[32m━━━━━━━━━━━━━━━━━━━━\u001b[0m\u001b[37m\u001b[0m \u001b[1m302s\u001b[0m 1s/step - accuracy: 0.6634 - loss: 1.8185\n",
      "Epoch 7/10\n",
      "\u001b[1m219/219\u001b[0m \u001b[32m━━━━━━━━━━━━━━━━━━━━\u001b[0m\u001b[37m\u001b[0m \u001b[1m339s\u001b[0m 1s/step - accuracy: 0.7313 - loss: 1.5727\n",
      "Epoch 8/10\n",
      "\u001b[1m219/219\u001b[0m \u001b[32m━━━━━━━━━━━━━━━━━━━━\u001b[0m\u001b[37m\u001b[0m \u001b[1m333s\u001b[0m 2s/step - accuracy: 0.8012 - loss: 1.2704\n",
      "Epoch 9/10\n",
      "\u001b[1m219/219\u001b[0m \u001b[32m━━━━━━━━━━━━━━━━━━━━\u001b[0m\u001b[37m\u001b[0m \u001b[1m419s\u001b[0m 2s/step - accuracy: 0.8496 - loss: 1.0651\n",
      "Epoch 10/10\n",
      "\u001b[1m219/219\u001b[0m \u001b[32m━━━━━━━━━━━━━━━━━━━━\u001b[0m\u001b[37m\u001b[0m \u001b[1m229s\u001b[0m 1s/step - accuracy: 0.8865 - loss: 0.9027\n"
     ]
    }
   ],
   "source": [
    "history = model.fit(\n",
    "    train_generator,\n",
    "    epochs=10,\n",
    ")"
   ]
  },
  {
   "cell_type": "code",
   "execution_count": 15,
   "id": "9f38f550-6373-48bf-864d-2f18f7afa83a",
   "metadata": {},
   "outputs": [
    {
     "name": "stderr",
     "output_type": "stream",
     "text": [
      "WARNING:absl:You are saving your model as an HDF5 file via `model.save()` or `keras.saving.save_model(model)`. This file format is considered legacy. We recommend using instead the native Keras format, e.g. `model.save('my_model.keras')` or `keras.saving.save_model(model, 'my_model.keras')`. \n"
     ]
    }
   ],
   "source": [
    "model.save(\"tomato_disease_classification_model.h5\")"
   ]
  },
  {
   "cell_type": "code",
   "execution_count": null,
   "id": "09e0e229",
   "metadata": {},
   "outputs": [],
   "source": []
  }
 ],
 "metadata": {
  "kernelspec": {
   "display_name": "base",
   "language": "python",
   "name": "python3"
  },
  "language_info": {
   "codemirror_mode": {
    "name": "ipython",
    "version": 3
   },
   "file_extension": ".py",
   "mimetype": "text/x-python",
   "name": "python",
   "nbconvert_exporter": "python",
   "pygments_lexer": "ipython3",
   "version": "3.12.7"
  }
 },
 "nbformat": 4,
 "nbformat_minor": 5
}
